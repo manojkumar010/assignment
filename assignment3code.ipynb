{
  "cells": [
    {
      "cell_type": "markdown",
      "metadata": {
        "id": "view-in-github",
        "colab_type": "text"
      },
      "source": [
        "<a href=\"https://colab.research.google.com/github/manojkumar010/assignment/blob/main/assignment3code.ipynb\" target=\"_parent\"><img src=\"https://colab.research.google.com/assets/colab-badge.svg\" alt=\"Open In Colab\"/></a>"
      ]
    },
    {
      "cell_type": "markdown",
      "id": "b6c24616",
      "metadata": {
        "id": "b6c24616"
      },
      "source": [
        "## Assignment 3"
      ]
    },
    {
      "cell_type": "markdown",
      "id": "731bc155",
      "metadata": {
        "id": "731bc155"
      },
      "source": [
        "## PART 1"
      ]
    },
    {
      "cell_type": "code",
      "execution_count": 1,
      "id": "9f412508",
      "metadata": {
        "id": "9f412508"
      },
      "outputs": [],
      "source": [
        "import tensorflow as tf\n",
        "from tensorflow.keras import layers\n",
        "import numpy as np\n",
        "\n",
        "tf.random.set_seed(42)"
      ]
    },
    {
      "cell_type": "code",
      "execution_count": 2,
      "id": "b03aac51",
      "metadata": {
        "colab": {
          "base_uri": "https://localhost:8080/"
        },
        "id": "b03aac51",
        "outputId": "86ccd5c1-7d86-474f-fa3c-e9da2e6c62b4"
      },
      "outputs": [
        {
          "output_type": "stream",
          "name": "stdout",
          "text": [
            "Downloading data from https://storage.googleapis.com/tensorflow/tf-keras-datasets/mnist.npz\n",
            "\u001b[1m11490434/11490434\u001b[0m \u001b[32m━━━━━━━━━━━━━━━━━━━━\u001b[0m\u001b[37m\u001b[0m \u001b[1m0s\u001b[0m 0us/step\n"
          ]
        }
      ],
      "source": [
        "# 1. Loading the MNIST dataset\n",
        "(x_train, y_train), (x_test, y_test) = tf.keras.datasets.mnist.load_data()"
      ]
    },
    {
      "cell_type": "code",
      "execution_count": 3,
      "id": "d01c3539",
      "metadata": {
        "id": "d01c3539"
      },
      "outputs": [],
      "source": [
        "# Normalizing the images\n",
        "x_train = x_train.astype('float32') / 255.0  # shape: (60000, 28, 28)\n",
        "x_test = x_test.astype('float32') / 255.0"
      ]
    },
    {
      "cell_type": "code",
      "execution_count": 4,
      "id": "121ec08f",
      "metadata": {
        "colab": {
          "base_uri": "https://localhost:8080/"
        },
        "id": "121ec08f",
        "outputId": "1df9e83e-a2ad-458d-96c1-312543f61a5b"
      },
      "outputs": [
        {
          "output_type": "stream",
          "name": "stdout",
          "text": [
            "Train shape: (60000, 28, 28, 1)\n",
            "Test shape: (10000, 28, 28, 1)\n"
          ]
        }
      ],
      "source": [
        "# Expanding dimensions for channel\n",
        "x_train = np.expand_dims(x_train, -1)  # shape: (60000, 28, 28, 1)\n",
        "x_test = np.expand_dims(x_test, -1)\n",
        "\n",
        "print(\"Train shape:\", x_train.shape)\n",
        "print(\"Test shape:\", x_test.shape)"
      ]
    },
    {
      "cell_type": "code",
      "execution_count": 5,
      "id": "a058df78",
      "metadata": {
        "id": "a058df78"
      },
      "outputs": [],
      "source": [
        "# 2. Tokenization mechanism\n",
        "class PatchEmbedding(layers.Layer):\n",
        "    def __init__(self, patch_size, embed_dim):\n",
        "        super(PatchEmbedding, self).__init__()\n",
        "        self.patch_size = patch_size\n",
        "        self.embed_dim = embed_dim\n",
        "\n",
        "        # Use a Conv2D layer to extract patches and project to embed_dim\n",
        "        self.projection = layers.Conv2D(\n",
        "            filters=embed_dim,\n",
        "            kernel_size=patch_size,\n",
        "            strides=patch_size,\n",
        "            padding='VALID'\n",
        "        )\n",
        "\n",
        "    def call(self, images):\n",
        "        x = self.projection(images)  # (batch_size, new_h, new_w, embed_dim)\n",
        "        patches = tf.reshape(x, [tf.shape(x)[0], -1, self.embed_dim])\n",
        "        return patches\n"
      ]
    },
    {
      "cell_type": "code",
      "execution_count": 6,
      "id": "37481583",
      "metadata": {
        "id": "37481583"
      },
      "outputs": [],
      "source": [
        "# 3. Learnable positional encoding\n",
        "class PositionalEncoding(layers.Layer):\n",
        "    def __init__(self, num_patches, embed_dim):\n",
        "        super(PositionalEncoding, self).__init__()\n",
        "        self.pos_emb = self.add_weight(\n",
        "            name=\"pos_embedding\",\n",
        "            shape=[1, num_patches, embed_dim],\n",
        "            initializer=\"random_normal\",\n",
        "        )\n",
        "\n",
        "    def call(self, x):\n",
        "        return x + self.pos_emb\n"
      ]
    },
    {
      "cell_type": "code",
      "execution_count": 7,
      "id": "18c41de7",
      "metadata": {
        "id": "18c41de7"
      },
      "outputs": [],
      "source": [
        "\n",
        "# 4. Implementing Multi-Head Attention from scratch\n",
        "class MultiHeadSelfAttention(layers.Layer):\n",
        "    def __init__(self, embed_dim, num_heads):\n",
        "        super(MultiHeadSelfAttention, self).__init__()\n",
        "        self.embed_dim = embed_dim\n",
        "        self.num_heads = num_heads\n",
        "        assert embed_dim % num_heads == 0, \"Embedding dimension must be divisible by number of heads\"\n",
        "        self.depth = embed_dim // num_heads\n",
        "\n",
        "        self.Wq = layers.Dense(embed_dim)\n",
        "        self.Wk = layers.Dense(embed_dim)\n",
        "        self.Wv = layers.Dense(embed_dim)\n",
        "        self.dense = layers.Dense(embed_dim)\n",
        "\n",
        "    def split_heads(self, x, batch_size):\n",
        "        x = tf.reshape(x, (batch_size, -1, self.num_heads, self.depth))\n",
        "        return tf.transpose(x, perm=[0, 2, 1, 3])  # (batch_size, num_heads, seq_len, depth)\n",
        "\n",
        "    def call(self, x):\n",
        "        batch_size = tf.shape(x)[0]\n",
        "\n",
        "        q = self.Wq(x)  # (batch_size, seq_len, embed_dim)\n",
        "        k = self.Wk(x)\n",
        "        v = self.Wv(x)\n",
        "\n",
        "        q = self.split_heads(q, batch_size)\n",
        "        k = self.split_heads(k, batch_size)\n",
        "        v = self.split_heads(v, batch_size)\n",
        "\n",
        "        # Scaled Dot-Product Attention\n",
        "        matmul_qk = tf.matmul(q, k, transpose_b=True)  # (batch_size, num_heads, seq_len, seq_len)\n",
        "        dk = tf.cast(tf.shape(k)[-1], tf.float32)\n",
        "        scaled_attention_logits = matmul_qk / tf.math.sqrt(dk)\n",
        "        attention_weights = tf.nn.softmax(scaled_attention_logits, axis=-1)  # (batch_size, num_heads, seq_len, seq_len)\n",
        "\n",
        "        output = tf.matmul(attention_weights, v)  # (batch_size, num_heads, seq_len, depth)\n",
        "        output = tf.transpose(output, perm=[0, 2, 1, 3])  # (batch_size, seq_len, num_heads, depth)\n",
        "        concat_attention = tf.reshape(output, (batch_size, -1, self.embed_dim))  # (batch_size, seq_len, embed_dim)\n",
        "\n",
        "        out = self.dense(concat_attention)\n",
        "        return out"
      ]
    },
    {
      "cell_type": "code",
      "execution_count": 8,
      "id": "63c09063",
      "metadata": {
        "id": "63c09063"
      },
      "outputs": [],
      "source": [
        "# 5. Encoder Block\n",
        "class TransformerEncoder(layers.Layer):\n",
        "    def __init__(self, embed_dim, num_heads, mlp_dim, dropout_rate=0.1):\n",
        "        super(TransformerEncoder, self).__init__()\n",
        "        self.mha = MultiHeadSelfAttention(embed_dim, num_heads)\n",
        "        self.dropout1 = layers.Dropout(dropout_rate)\n",
        "        self.norm1 = layers.LayerNormalization(epsilon=1e-6)\n",
        "\n",
        "        self.ffn = tf.keras.Sequential([\n",
        "            layers.Dense(mlp_dim, activation='relu'),\n",
        "            layers.Dense(embed_dim),\n",
        "        ])\n",
        "        self.dropout2 = layers.Dropout(dropout_rate)\n",
        "        self.norm2 = layers.LayerNormalization(epsilon=1e-6)\n",
        "\n",
        "    def call(self, x, training):\n",
        "        attn_output = self.mha(x)\n",
        "        attn_output = self.dropout1(attn_output, training=training)\n",
        "        out1 = self.norm1(x + attn_output)\n",
        "\n",
        "        ffn_output = self.ffn(out1)\n",
        "        ffn_output = self.dropout2(ffn_output, training=training)\n",
        "        return self.norm2(out1 + ffn_output)\n",
        "\n"
      ]
    },
    {
      "cell_type": "code",
      "execution_count": 9,
      "id": "ddc583d5",
      "metadata": {
        "id": "ddc583d5"
      },
      "outputs": [],
      "source": [
        "# 6. Build the full Transformer model\n",
        "class VisionTransformer(tf.keras.Model):\n",
        "    def __init__(self, patch_size, embed_dim, num_heads, mlp_dim, num_layers, num_classes):\n",
        "        super(VisionTransformer, self).__init__()\n",
        "        self.patch_size = patch_size\n",
        "        self.embed_dim = embed_dim\n",
        "        self.num_heads = num_heads\n",
        "        self.mlp_dim = mlp_dim\n",
        "        self.num_layers = num_layers\n",
        "        self.num_classes = num_classes\n",
        "\n",
        "        self.patch_embed = PatchEmbedding(patch_size, embed_dim)  # Instantiating PatchEmbedding layer here\n",
        "        self.pos_embed = self.add_weight(\n",
        "            name=\"pos_embed\",\n",
        "            shape=(1, (28 // patch_size)*(28 // patch_size), embed_dim),\n",
        "            initializer=tf.keras.initializers.RandomNormal(stddev=0.02),\n",
        "            trainable=True\n",
        "        )\n",
        "\n",
        "        self.encoders = [\n",
        "            TransformerEncoder(embed_dim, num_heads, mlp_dim)\n",
        "            for _ in range(num_layers)\n",
        "        ]\n",
        "\n",
        "        self.mlp_head = tf.keras.layers.Dense(num_classes)\n",
        "\n",
        "    def call(self, x, training=False):\n",
        "        # Tokenization (using the already instantiated PatchEmbedding layer)\n",
        "        x = self.patch_embed(x)  # Calling the already instantiated PatchEmbedding layer\n",
        "        # Add positional embedding\n",
        "        x += self.pos_embed\n",
        "        # Pass through encoder layers\n",
        "        for encoder in self.encoders:\n",
        "            x = encoder(x, training=training)\n",
        "        # Take mean across tokens\n",
        "        x = tf.reduce_mean(x, axis=1)\n",
        "        # Final prediction\n",
        "        x = self.mlp_head(x)\n",
        "        return x\n"
      ]
    },
    {
      "cell_type": "code",
      "execution_count": 10,
      "id": "e8c717be",
      "metadata": {
        "id": "e8c717be"
      },
      "outputs": [],
      "source": [
        "# Instantiate and compile the model\n",
        "patch_size = 7  # 28x28 -> 4x4 = 16 patches\n",
        "embed_dim = 64\n",
        "num_heads = 4\n",
        "mlp_dim = 128\n",
        "num_layers = 4\n",
        "num_classes = 10\n",
        "\n",
        "model = VisionTransformer(patch_size, embed_dim, num_heads, mlp_dim, num_layers, num_classes)\n",
        "\n",
        "model.compile(\n",
        "    optimizer=tf.keras.optimizers.Adam(learning_rate=1e-3),\n",
        "    loss=tf.keras.losses.SparseCategoricalCrossentropy(from_logits=True),\n",
        "    metrics=['accuracy']\n",
        ")"
      ]
    },
    {
      "cell_type": "code",
      "execution_count": 11,
      "id": "ecc5481d",
      "metadata": {
        "colab": {
          "base_uri": "https://localhost:8080/"
        },
        "id": "ecc5481d",
        "outputId": "df5fa142-5a47-4e13-d51e-f6976613676a"
      },
      "outputs": [
        {
          "output_type": "stream",
          "name": "stdout",
          "text": [
            "Epoch 1/20\n",
            "\u001b[1m469/469\u001b[0m \u001b[32m━━━━━━━━━━━━━━━━━━━━\u001b[0m\u001b[37m\u001b[0m \u001b[1m44s\u001b[0m 36ms/step - accuracy: 0.6295 - loss: 1.0844 - val_accuracy: 0.9538 - val_loss: 0.1498\n",
            "Epoch 2/20\n",
            "\u001b[1m469/469\u001b[0m \u001b[32m━━━━━━━━━━━━━━━━━━━━\u001b[0m\u001b[37m\u001b[0m \u001b[1m4s\u001b[0m 8ms/step - accuracy: 0.9454 - loss: 0.1774 - val_accuracy: 0.9634 - val_loss: 0.1182\n",
            "Epoch 3/20\n",
            "\u001b[1m469/469\u001b[0m \u001b[32m━━━━━━━━━━━━━━━━━━━━\u001b[0m\u001b[37m\u001b[0m \u001b[1m4s\u001b[0m 8ms/step - accuracy: 0.9627 - loss: 0.1234 - val_accuracy: 0.9715 - val_loss: 0.0896\n",
            "Epoch 4/20\n",
            "\u001b[1m469/469\u001b[0m \u001b[32m━━━━━━━━━━━━━━━━━━━━\u001b[0m\u001b[37m\u001b[0m \u001b[1m4s\u001b[0m 9ms/step - accuracy: 0.9665 - loss: 0.1072 - val_accuracy: 0.9710 - val_loss: 0.0905\n",
            "Epoch 5/20\n",
            "\u001b[1m469/469\u001b[0m \u001b[32m━━━━━━━━━━━━━━━━━━━━\u001b[0m\u001b[37m\u001b[0m \u001b[1m4s\u001b[0m 7ms/step - accuracy: 0.9713 - loss: 0.0926 - val_accuracy: 0.9659 - val_loss: 0.1068\n",
            "Epoch 6/20\n",
            "\u001b[1m469/469\u001b[0m \u001b[32m━━━━━━━━━━━━━━━━━━━━\u001b[0m\u001b[37m\u001b[0m \u001b[1m4s\u001b[0m 8ms/step - accuracy: 0.9732 - loss: 0.0858 - val_accuracy: 0.9767 - val_loss: 0.0725\n",
            "Epoch 7/20\n",
            "\u001b[1m469/469\u001b[0m \u001b[32m━━━━━━━━━━━━━━━━━━━━\u001b[0m\u001b[37m\u001b[0m \u001b[1m5s\u001b[0m 8ms/step - accuracy: 0.9771 - loss: 0.0726 - val_accuracy: 0.9779 - val_loss: 0.0742\n",
            "Epoch 8/20\n",
            "\u001b[1m469/469\u001b[0m \u001b[32m━━━━━━━━━━━━━━━━━━━━\u001b[0m\u001b[37m\u001b[0m \u001b[1m3s\u001b[0m 7ms/step - accuracy: 0.9782 - loss: 0.0700 - val_accuracy: 0.9753 - val_loss: 0.0798\n",
            "Epoch 9/20\n",
            "\u001b[1m469/469\u001b[0m \u001b[32m━━━━━━━━━━━━━━━━━━━━\u001b[0m\u001b[37m\u001b[0m \u001b[1m4s\u001b[0m 8ms/step - accuracy: 0.9794 - loss: 0.0635 - val_accuracy: 0.9790 - val_loss: 0.0722\n",
            "Epoch 10/20\n",
            "\u001b[1m469/469\u001b[0m \u001b[32m━━━━━━━━━━━━━━━━━━━━\u001b[0m\u001b[37m\u001b[0m \u001b[1m5s\u001b[0m 8ms/step - accuracy: 0.9824 - loss: 0.0571 - val_accuracy: 0.9815 - val_loss: 0.0651\n",
            "Epoch 11/20\n",
            "\u001b[1m469/469\u001b[0m \u001b[32m━━━━━━━━━━━━━━━━━━━━\u001b[0m\u001b[37m\u001b[0m \u001b[1m4s\u001b[0m 7ms/step - accuracy: 0.9836 - loss: 0.0533 - val_accuracy: 0.9765 - val_loss: 0.0789\n",
            "Epoch 12/20\n",
            "\u001b[1m469/469\u001b[0m \u001b[32m━━━━━━━━━━━━━━━━━━━━\u001b[0m\u001b[37m\u001b[0m \u001b[1m6s\u001b[0m 9ms/step - accuracy: 0.9832 - loss: 0.0517 - val_accuracy: 0.9813 - val_loss: 0.0660\n",
            "Epoch 13/20\n",
            "\u001b[1m469/469\u001b[0m \u001b[32m━━━━━━━━━━━━━━━━━━━━\u001b[0m\u001b[37m\u001b[0m \u001b[1m4s\u001b[0m 7ms/step - accuracy: 0.9832 - loss: 0.0517 - val_accuracy: 0.9780 - val_loss: 0.0747\n",
            "Epoch 14/20\n",
            "\u001b[1m469/469\u001b[0m \u001b[32m━━━━━━━━━━━━━━━━━━━━\u001b[0m\u001b[37m\u001b[0m \u001b[1m4s\u001b[0m 7ms/step - accuracy: 0.9857 - loss: 0.0441 - val_accuracy: 0.9821 - val_loss: 0.0596\n",
            "Epoch 15/20\n",
            "\u001b[1m469/469\u001b[0m \u001b[32m━━━━━━━━━━━━━━━━━━━━\u001b[0m\u001b[37m\u001b[0m \u001b[1m4s\u001b[0m 8ms/step - accuracy: 0.9858 - loss: 0.0430 - val_accuracy: 0.9808 - val_loss: 0.0663\n",
            "Epoch 16/20\n",
            "\u001b[1m469/469\u001b[0m \u001b[32m━━━━━━━━━━━━━━━━━━━━\u001b[0m\u001b[37m\u001b[0m \u001b[1m4s\u001b[0m 8ms/step - accuracy: 0.9863 - loss: 0.0412 - val_accuracy: 0.9809 - val_loss: 0.0644\n",
            "Epoch 17/20\n",
            "\u001b[1m469/469\u001b[0m \u001b[32m━━━━━━━━━━━━━━━━━━━━\u001b[0m\u001b[37m\u001b[0m \u001b[1m5s\u001b[0m 8ms/step - accuracy: 0.9860 - loss: 0.0427 - val_accuracy: 0.9823 - val_loss: 0.0663\n",
            "Epoch 18/20\n",
            "\u001b[1m469/469\u001b[0m \u001b[32m━━━━━━━━━━━━━━━━━━━━\u001b[0m\u001b[37m\u001b[0m \u001b[1m4s\u001b[0m 8ms/step - accuracy: 0.9867 - loss: 0.0430 - val_accuracy: 0.9836 - val_loss: 0.0556\n",
            "Epoch 19/20\n",
            "\u001b[1m469/469\u001b[0m \u001b[32m━━━━━━━━━━━━━━━━━━━━\u001b[0m\u001b[37m\u001b[0m \u001b[1m5s\u001b[0m 7ms/step - accuracy: 0.9886 - loss: 0.0366 - val_accuracy: 0.9823 - val_loss: 0.0623\n",
            "Epoch 20/20\n",
            "\u001b[1m469/469\u001b[0m \u001b[32m━━━━━━━━━━━━━━━━━━━━\u001b[0m\u001b[37m\u001b[0m \u001b[1m6s\u001b[0m 9ms/step - accuracy: 0.9871 - loss: 0.0375 - val_accuracy: 0.9828 - val_loss: 0.0619\n"
          ]
        }
      ],
      "source": [
        "# 7. Training the model\n",
        "history = model.fit(\n",
        "    x_train, y_train,\n",
        "    epochs=20,\n",
        "    batch_size=128,\n",
        "    validation_data=(x_test, y_test)\n",
        ")\n",
        "\n"
      ]
    },
    {
      "cell_type": "code",
      "execution_count": 12,
      "id": "8ab20bdd",
      "metadata": {
        "colab": {
          "base_uri": "https://localhost:8080/"
        },
        "id": "8ab20bdd",
        "outputId": "be198167-d39d-426d-98dc-5ef9e26480db"
      },
      "outputs": [
        {
          "output_type": "stream",
          "name": "stdout",
          "text": [
            "\u001b[1m313/313\u001b[0m \u001b[32m━━━━━━━━━━━━━━━━━━━━\u001b[0m\u001b[37m\u001b[0m \u001b[1m6s\u001b[0m 10ms/step - accuracy: 0.9788 - loss: 0.0775\n",
            "Test accuracy: 0.9828\n"
          ]
        }
      ],
      "source": [
        "# Evaluating on test set\n",
        "test_loss, test_acc = model.evaluate(x_test, y_test)\n",
        "print(f\"Test accuracy: {test_acc:.4f}\")\n"
      ]
    },
    {
      "cell_type": "code",
      "execution_count": 13,
      "id": "40a9d5e6",
      "metadata": {
        "colab": {
          "base_uri": "https://localhost:8080/",
          "height": 304
        },
        "id": "40a9d5e6",
        "outputId": "546bc6bb-4cbd-4ef5-8514-fcc7e345c6b2"
      },
      "outputs": [
        {
          "output_type": "display_data",
          "data": {
            "text/plain": [
              "<Figure size 1200x500 with 2 Axes>"
            ],
            "image/png": "[encoded data removed]"
          },
          "metadata": {}
        }
      ],
      "source": [
        "import matplotlib.pyplot as plt\n",
        "\n",
        "# Assuming `history` is the history object returned by model.fit()\n",
        "# Plotting Loss\n",
        "plt.figure(figsize=(12, 5))\n",
        "\n",
        "plt.subplot(1, 2, 1)\n",
        "plt.plot(history.history['loss'], label='Training Loss')\n",
        "plt.plot(history.history['val_loss'], label='Validation Loss')\n",
        "plt.xlabel('Epochs')\n",
        "plt.ylabel('Loss')\n",
        "plt.legend()\n",
        "plt.title('Training and Validation Loss')\n",
        "\n",
        "# Plotting Accuracy\n",
        "plt.subplot(1, 2, 2)\n",
        "plt.plot(history.history['accuracy'], label='Training Accuracy')\n",
        "plt.plot(history.history['val_accuracy'], label='Validation Accuracy')\n",
        "plt.xlabel('Epochs')\n",
        "plt.ylabel('Accuracy')\n",
        "plt.legend()\n",
        "plt.title('Training and Validation Accuracy')\n",
        "\n",
        "plt.tight_layout()\n",
        "plt.show()\n"
      ]
    },
    {
      "cell_type": "markdown",
      "id": "36496750",
      "metadata": {
        "id": "36496750"
      },
      "source": [
        "## PART 2"
      ]
    },
    {
      "cell_type": "code",
      "execution_count": 11,
      "id": "d8acd424",
      "metadata": {
        "id": "d8acd424"
      },
      "outputs": [],
      "source": [
        "import torch\n",
        "import torch.nn as nn\n",
        "import torch.nn.functional as F\n",
        "import matplotlib.pyplot as plt\n",
        "import torchvision.transforms as transforms\n",
        "from torchvision import datasets\n",
        "import math"
      ]
    },
    {
      "cell_type": "code",
      "source": [
        "\n",
        "\n",
        "class PatchEmbedding(nn.Module):\n",
        "    def __init__(self, img_size=28, patch_size=7, in_channels=1, embed_dim=128):\n",
        "        super().__init__()\n",
        "        self.patch_size = patch_size\n",
        "        self.num_patches = (img_size // patch_size) ** 2\n",
        "        self.proj = nn.Conv2d(in_channels, embed_dim, kernel_size=patch_size, stride=patch_size)\n",
        "\n",
        "    def forward(self, x):\n",
        "        # x: (B, C, H, W)\n",
        "        x = self.proj(x)  # (B, embed_dim, H/patch, W/patch)\n",
        "        x = x.flatten(2)  # (B, embed_dim, num_patches)\n",
        "        x = x.transpose(1, 2)  # (B, num_patches, embed_dim)\n",
        "        return x\n"
      ],
      "metadata": {
        "id": "R6fq5zlHL5KG"
      },
      "id": "R6fq5zlHL5KG",
      "execution_count": 12,
      "outputs": []
    },
    {
      "cell_type": "code",
      "execution_count": 13,
      "id": "5d756806",
      "metadata": {
        "id": "5d756806"
      },
      "outputs": [],
      "source": [
        "\n",
        "\n",
        "class EfficientAttention(nn.Module):\n",
        "    def __init__(self, dim, heads=8, proj_k=64):\n",
        "        super().__init__()\n",
        "        self.heads = heads\n",
        "        self.scale = dim ** -0.5\n",
        "        self.proj_k = proj_k\n",
        "\n",
        "        self.qkv = nn.Linear(dim, dim * 3)\n",
        "        self.proj = nn.Linear(dim, dim)\n",
        "\n",
        "        # Linear projection for keys and values\n",
        "        self.E = nn.Parameter(torch.randn(proj_k, dim // heads))\n",
        "        self.F = nn.Parameter(torch.randn(proj_k, dim // heads))\n",
        "\n",
        "    def forward(self, x):\n",
        "        B, N, D = x.shape\n",
        "        qkv = self.qkv(x).chunk(3, dim=-1)  # (B, N, D) each\n",
        "        q, k, v = [t.view(B, N, self.heads, D // self.heads).transpose(1, 2) for t in qkv]\n",
        "\n",
        "        # Project keys and values to lower dimension using E, F\n",
        "        k_proj = torch.einsum(\"bhnd,md->bhnm\", k, self.E)  # (B, h, N, proj_k)\n",
        "        v_proj = torch.einsum(\"bhnd,md->bhnm\", v, self.F)  # (B, h, N, proj_k)\n",
        "\n",
        "        attn = torch.einsum(\"bhnd,bhnm->bhdm\", q, k_proj) * self.scale\n",
        "        attn = attn.softmax(dim=-1)\n",
        "        out = torch.einsum(\"bhdm,bhnm->bhnd\", attn, v_proj)\n",
        "\n",
        "        out = out.transpose(1, 2).reshape(B, N, D)\n",
        "        return self.proj(out)\n"
      ]
    },
    {
      "cell_type": "code",
      "execution_count": 14,
      "id": "8f7f0d29",
      "metadata": {
        "id": "8f7f0d29"
      },
      "outputs": [],
      "source": [
        "class EfficientTransformerEncoder(nn.Module):\n",
        "    def __init__(self, dim, heads=8, proj_k=64, mlp_dim=256, dropout=0.1):\n",
        "        super().__init__()\n",
        "        self.attn = EfficientAttention(dim, heads=heads, proj_k=proj_k)\n",
        "        self.norm1 = nn.LayerNorm(dim)\n",
        "        self.norm2 = nn.LayerNorm(dim)\n",
        "\n",
        "        self.mlp = nn.Sequential(\n",
        "            nn.Linear(dim, mlp_dim),\n",
        "            nn.GELU(),\n",
        "            nn.Dropout(dropout),\n",
        "            nn.Linear(mlp_dim, dim),\n",
        "            nn.Dropout(dropout)\n",
        "        )\n",
        "\n",
        "    def forward(self, x):\n",
        "        x = x + self.attn(self.norm1(x))\n",
        "        x = x + self.mlp(self.norm2(x))\n",
        "        return x\n"
      ]
    },
    {
      "cell_type": "code",
      "execution_count": 15,
      "id": "e5dbd7a3",
      "metadata": {
        "id": "e5dbd7a3"
      },
      "outputs": [],
      "source": [
        "class EfficientVisionTransformer(nn.Module):\n",
        "    def __init__(self, img_size=28, patch_size=7, in_channels=1, num_classes=10,\n",
        "                 embed_dim=128, depth=6, heads=8, proj_k=64, mlp_dim=256, dropout=0.1):\n",
        "        super().__init__()\n",
        "        self.patch_embed = PatchEmbedding(img_size, patch_size, in_channels, embed_dim)\n",
        "        num_patches = self.patch_embed.num_patches\n",
        "\n",
        "        self.cls_token = nn.Parameter(torch.zeros(1, 1, embed_dim))\n",
        "        self.pos_embed = nn.Parameter(torch.zeros(1, 1 + num_patches, embed_dim))\n",
        "        self.dropout = nn.Dropout(dropout)\n",
        "\n",
        "        self.encoder_layers = nn.ModuleList([\n",
        "            EfficientTransformerEncoder(embed_dim, heads, proj_k, mlp_dim, dropout)\n",
        "            for _ in range(depth)\n",
        "        ])\n",
        "\n",
        "        self.norm = nn.LayerNorm(embed_dim)\n",
        "        self.mlp_head = nn.Linear(embed_dim, num_classes)\n",
        "\n",
        "    def forward(self, x):\n",
        "        x = self.patch_embed(x)\n",
        "        batch_size = x.size(0)\n",
        "\n",
        "        cls_tokens = self.cls_token.expand(batch_size, -1, -1)\n",
        "        x = torch.cat((cls_tokens, x), dim=1)\n",
        "\n",
        "        x = x + self.pos_embed\n",
        "        x = self.dropout(x)\n",
        "\n",
        "        for layer in self.encoder_layers:\n",
        "            x = layer(x)\n",
        "\n",
        "        x = self.norm(x)\n",
        "        cls_output = x[:, 0]\n",
        "        return self.mlp_head(cls_output)\n"
      ]
    },
    {
      "cell_type": "code",
      "source": [
        "\n",
        "# Hyperparameters\n",
        "img_size = 28\n",
        "patch_size = 7\n",
        "embed_dim = 256\n",
        "num_heads = 8\n",
        "num_layers = 6\n",
        "num_classes = 10\n",
        "\n",
        "# Defining transformations for your data\n",
        "train_transform = transforms.Compose([\n",
        "    transforms.ToTensor(),\n",
        "    transforms.Normalize((0.5,), (0.5,))\n",
        "])\n",
        "test_transform = transforms.Compose([\n",
        "    transforms.ToTensor(),\n",
        "    transforms.Normalize((0.5,), (0.5,))\n",
        "])\n",
        "\n",
        "# Loading the datasets\n",
        "train_dataset = datasets.MNIST(\n",
        "    root='./data',  # Where to download or find your data\n",
        "    train=True,\n",
        "    download=True,\n",
        "    transform=train_transform\n",
        ")\n",
        "test_dataset = datasets.MNIST(\n",
        "    root='./data',\n",
        "    train=False,\n",
        "    download=True,\n",
        "    transform=test_transform\n",
        ")\n",
        "\n",
        "# Creating the DataLoaders\n",
        "train_loader = torch.utils.data.DataLoader(\n",
        "    train_dataset,\n",
        "    batch_size=64,  # Adjust batch size as needed\n",
        "    shuffle=True  # Shuffle the training data in each epoch\n",
        ")\n",
        "test_loader = torch.utils.data.DataLoader(\n",
        "    test_dataset,\n",
        "    batch_size=64,\n",
        "    shuffle=False  # No need to shuffle test data\n",
        ")"
      ],
      "metadata": {
        "colab": {
          "base_uri": "https://localhost:8080/"
        },
        "id": "B47bPGVQN8ue",
        "outputId": "99846491-bc87-4806-c36f-0f34a13cf782"
      },
      "id": "B47bPGVQN8ue",
      "execution_count": 19,
      "outputs": [
        {
          "output_type": "stream",
          "name": "stderr",
          "text": [
            "100%|██████████| 9.91M/9.91M [00:00<00:00, 16.0MB/s]\n",
            "100%|██████████| 28.9k/28.9k [00:00<00:00, 481kB/s]\n",
            "100%|██████████| 1.65M/1.65M [00:00<00:00, 4.46MB/s]\n",
            "100%|██████████| 4.54k/4.54k [00:00<00:00, 6.44MB/s]\n"
          ]
        }
      ]
    },
    {
      "cell_type": "code",
      "source": [
        "def train_model(model, dataloader, criterion, optimizer, device):\n",
        "    model.train()\n",
        "    total_loss = 0\n",
        "    correct = 0\n",
        "    total = 0\n",
        "\n",
        "    for images, labels in dataloader:\n",
        "        images, labels = images.to(device), labels.to(device)\n",
        "        outputs = model(images)\n",
        "        loss = criterion(outputs, labels)\n",
        "\n",
        "        optimizer.zero_grad()\n",
        "        loss.backward()\n",
        "        optimizer.step()\n",
        "\n",
        "        total_loss += loss.item()\n",
        "        _, predicted = outputs.max(1)\n",
        "        correct += predicted.eq(labels).sum().item()\n",
        "        total += labels.size(0)\n",
        "\n",
        "    avg_loss = total_loss / len(dataloader)\n",
        "    acc = 100 * correct / total\n",
        "    return avg_loss, acc"
      ],
      "metadata": {
        "id": "DvkFrPnpPjqX"
      },
      "id": "DvkFrPnpPjqX",
      "execution_count": 22,
      "outputs": []
    },
    {
      "cell_type": "code",
      "source": [
        "def evaluate_model(model, dataloader, criterion, device):\n",
        "    model.eval()\n",
        "    total_loss = 0\n",
        "    correct = 0\n",
        "    total = 0\n",
        "\n",
        "    with torch.no_grad():\n",
        "        for images, labels in dataloader:\n",
        "            images, labels = images.to(device), labels.to(device)\n",
        "            outputs = model(images)\n",
        "            loss = criterion(outputs, labels)\n",
        "\n",
        "            total_loss += loss.item()\n",
        "            _, predicted = outputs.max(1)\n",
        "            correct += predicted.eq(labels).sum().item()\n",
        "            total += labels.size(0)\n",
        "\n",
        "    avg_loss = total_loss / len(dataloader)\n",
        "    acc = 100 * correct / total\n",
        "    return avg_loss, acc"
      ],
      "metadata": {
        "id": "F7jMdkv2P9iw"
      },
      "id": "F7jMdkv2P9iw",
      "execution_count": 24,
      "outputs": []
    },
    {
      "cell_type": "code",
      "execution_count": 25,
      "id": "e62c71ed",
      "metadata": {
        "colab": {
          "base_uri": "https://localhost:8080/"
        },
        "id": "e62c71ed",
        "outputId": "c89f7946-63d0-46c5-d5b3-d1acb1ad7be3"
      },
      "outputs": [
        {
          "output_type": "stream",
          "name": "stdout",
          "text": [
            "Epoch 1/10\n",
            "Efficient Attention -> Train Loss: 0.6739, Train Accuracy: 77.42%, Test Accuracy: 91.43%\n",
            "Epoch 2/10\n",
            "Efficient Attention -> Train Loss: 0.2476, Train Accuracy: 92.30%, Test Accuracy: 93.95%\n",
            "Epoch 3/10\n",
            "Efficient Attention -> Train Loss: 0.1890, Train Accuracy: 94.11%, Test Accuracy: 95.15%\n",
            "Epoch 4/10\n",
            "Efficient Attention -> Train Loss: 0.1654, Train Accuracy: 94.75%, Test Accuracy: 95.54%\n",
            "Epoch 5/10\n",
            "Efficient Attention -> Train Loss: 0.1439, Train Accuracy: 95.48%, Test Accuracy: 95.79%\n",
            "Epoch 6/10\n",
            "Efficient Attention -> Train Loss: 0.1402, Train Accuracy: 95.64%, Test Accuracy: 96.28%\n",
            "Epoch 7/10\n",
            "Efficient Attention -> Train Loss: 0.1265, Train Accuracy: 95.95%, Test Accuracy: 96.37%\n",
            "Epoch 8/10\n",
            "Efficient Attention -> Train Loss: 0.1174, Train Accuracy: 96.26%, Test Accuracy: 96.31%\n",
            "Epoch 9/10\n",
            "Efficient Attention -> Train Loss: 0.1098, Train Accuracy: 96.48%, Test Accuracy: 96.59%\n",
            "Epoch 10/10\n",
            "Efficient Attention -> Train Loss: 0.1085, Train Accuracy: 96.53%, Test Accuracy: 96.51%\n"
          ]
        }
      ],
      "source": [
        "# Initializing Efficient Transformer model (Part-2)\n",
        "device = torch.device('cuda' if torch.cuda.is_available() else 'cpu')\n",
        "\n",
        "model_efficient = EfficientVisionTransformer().to(device)\n",
        "optimizer_efficient = torch.optim.Adam(model_efficient.parameters(), lr=1e-3)\n",
        "\n",
        "criterion = nn.CrossEntropyLoss()\n",
        "train_losses_efficient = []\n",
        "test_acc_efficient = []\n",
        "\n",
        "epochs = 10\n",
        "for epoch in range(epochs):\n",
        "    loss_e, acc_e = train_model(model_efficient, train_loader, criterion, optimizer_efficient, device)\n",
        "    test_loss_e, test_acc_e = evaluate_model(model_efficient, test_loader, criterion, device)\n",
        "\n",
        "    train_losses_efficient.append(loss_e)\n",
        "    test_acc_efficient.append(test_acc_e)\n",
        "\n",
        "    print(f\"Epoch {epoch+1}/{epochs}\")\n",
        "    print(f\"Efficient Attention -> Train Loss: {loss_e:.4f}, Train Accuracy: {acc_e:.2f}%, Test Accuracy: {test_acc_e:.2f}%\")\n"
      ]
    },
    {
      "cell_type": "code",
      "execution_count": 1,
      "id": "fa41a16b",
      "metadata": {
        "id": "fa41a16b"
      },
      "outputs": [],
      "source": [
        "# Function to plot attention maps\n",
        "def plot_attention_map(attention_weights, layer_num=0, head_num=0):\n",
        "    attention_map = attention_weights[layer_num, head_num].detach().cpu().numpy()\n",
        "    plt.imshow(attention_map, cmap='viridis')\n",
        "    plt.colorbar()\n",
        "    plt.title(f\"Attention Map - Layer {layer_num}, Head {head_num}\")\n",
        "    plt.show()\n",
        "\n"
      ]
    },
    {
      "cell_type": "markdown",
      "id": "f8d7e13c",
      "metadata": {
        "id": "f8d7e13c"
      },
      "source": [
        "# PART 3"
      ]
    },
    {
      "cell_type": "code",
      "source": [
        "import torch\n",
        "import torch.nn as nn\n",
        "import torch.nn.functional as F\n",
        "import matplotlib.pyplot as plt\n",
        "import torchvision.transforms as transforms\n",
        "from torchvision import datasets\n",
        "import math"
      ],
      "metadata": {
        "id": "TThjYciggwuZ"
      },
      "id": "TThjYciggwuZ",
      "execution_count": 51,
      "outputs": []
    },
    {
      "cell_type": "code",
      "execution_count": 60,
      "id": "21f5e22e",
      "metadata": {
        "id": "21f5e22e"
      },
      "outputs": [],
      "source": [
        "class MultiScalePatchEmbedding(nn.Module):\n",
        "    def __init__(self, img_size=28, patch_sizes=[7, 4], embed_dim=256):\n",
        "        super(MultiScalePatchEmbedding, self).__init__()\n",
        "        self.embedders = nn.ModuleList([\n",
        "            nn.Conv2d(1, embed_dim, kernel_size=p, stride=p)\n",
        "            for p in patch_sizes\n",
        "        ])\n",
        "        self.total_dim = embed_dim * len(patch_sizes)  # Store total dimension\n",
        "\n",
        "    def forward(self, x):\n",
        "        patch_embeddings = []\n",
        "        for embedder in self.embedders:\n",
        "            patches = embedder(x)\n",
        "            patches = patches.flatten(2).transpose(1, 2)\n",
        "            patch_embeddings.append(patches)\n",
        "\n",
        "        x = torch.cat(patch_embeddings, dim=1)\n",
        "        return x # The total embedding dimension is now embed_dim * len(patch_sizes)"
      ]
    },
    {
      "cell_type": "code",
      "source": [
        "class MultiScaleVisionTransformer(nn.Module):\n",
        "    def __init__(self, img_size=28, patch_sizes=[7, 4], embed_dim=256, num_heads=8, num_layers=6, num_classes=10):\n",
        "        super(MultiScaleVisionTransformer, self).__init__()\n",
        "        self.patch_embed = MultiScalePatchEmbedding(img_size, patch_sizes, embed_dim)\n",
        "\n",
        "        # Get the total embedding dimension from the patch embedding layer\n",
        "        example_input = torch.randn(1, 1, img_size, img_size)\n",
        "        self.embed_dim = self.patch_embed(example_input).shape[-1]  # Get embed_dim from patch_embed\n",
        "\n",
        "        self.cls_token = nn.Parameter(torch.zeros(1, 1, self.embed_dim))  # Use the correct embed_dim here\n",
        "        num_patches = self.patch_embed(example_input).shape[1]\n",
        "        self.pos_embed = nn.Parameter(torch.zeros(1, num_patches + 1, self.embed_dim))  # Use the correct embed_dim here\n",
        "        self.pos_drop = nn.Dropout(0.0)\n",
        "\n",
        "        self.blocks = nn.ModuleList([\n",
        "            MultiScaleTransformerBlock(self.embed_dim, num_heads)\n",
        "            for _ in range(num_layers)\n",
        "        ])\n",
        "        self.norm = nn.LayerNorm(self.embed_dim)  # Use the correct embed_dim here\n",
        "        self.head = nn.Linear(self.embed_dim, num_classes)  # Use the correct embed_dim here\n",
        "\n",
        "    def forward(self, x):\n",
        "        x = self.patch_embed(x)  # (B, num_patches, embed_dim)\n",
        "\n",
        "        batch_size = x.shape[0]\n",
        "        cls_tokens = self.cls_token.expand(batch_size, -1, -1)  # (B, 1, embed_dim)\n",
        "        x = torch.cat((cls_tokens, x), dim=1)  # (B, 1 + num_patches, embed_dim)\n",
        "\n",
        "        x = x + self.pos_embed\n",
        "        x = self.pos_drop(x)\n",
        "\n",
        "        attention_maps = []\n",
        "        for block in self.blocks:\n",
        "            x, attn_map = block(x)\n",
        "            attention_maps.append(attn_map)\n",
        "\n",
        "        x = self.norm(x)\n",
        "        return self.head(x[:, 0]), attention_maps"
      ],
      "metadata": {
        "id": "8de5uh0MmQMZ"
      },
      "id": "8de5uh0MmQMZ",
      "execution_count": 61,
      "outputs": []
    },
    {
      "cell_type": "code",
      "execution_count": 53,
      "id": "718b3a94",
      "metadata": {
        "id": "718b3a94"
      },
      "outputs": [],
      "source": [
        "class MultiScaleAttention(nn.Module):\n",
        "    def __init__(self, embed_dim, num_heads):\n",
        "        super(MultiScaleAttention, self).__init__()\n",
        "        self.num_heads = num_heads\n",
        "        self.head_dim = embed_dim // num_heads\n",
        "\n",
        "        self.qkv = nn.Linear(embed_dim, embed_dim * 3)\n",
        "        self.out_proj = nn.Linear(embed_dim, embed_dim)\n",
        "\n",
        "    def forward(self, x):\n",
        "        B, N, C = x.shape\n",
        "        qkv = self.qkv(x).reshape(B, N, 3, self.num_heads, self.head_dim)\n",
        "        q, k, v = qkv.permute(2, 0, 3, 1, 4)  # (3, B, heads, N, head_dim)\n",
        "\n",
        "        attn_scores = (q @ k.transpose(-2, -1)) / (self.head_dim ** 0.5)\n",
        "        attn_probs = attn_scores.softmax(dim=-1)\n",
        "        out = (attn_probs @ v).transpose(1, 2).reshape(B, N, C)\n",
        "\n",
        "        out = self.out_proj(out)\n",
        "        return out, attn_probs\n"
      ]
    },
    {
      "cell_type": "code",
      "execution_count": 54,
      "id": "93d14594",
      "metadata": {
        "id": "93d14594"
      },
      "outputs": [],
      "source": [
        "class MultiScaleTransformerBlock(nn.Module):\n",
        "    def __init__(self, embed_dim, num_heads):\n",
        "        super(MultiScaleTransformerBlock, self).__init__()\n",
        "        self.attention = MultiScaleAttention(embed_dim, num_heads)\n",
        "        self.norm1 = nn.LayerNorm(embed_dim)\n",
        "        self.norm2 = nn.LayerNorm(embed_dim)\n",
        "\n",
        "        self.mlp = nn.Sequential(\n",
        "            nn.Linear(embed_dim, embed_dim * 4),\n",
        "            nn.ReLU(),\n",
        "            nn.Linear(embed_dim * 4, embed_dim)\n",
        "        )\n",
        "\n",
        "    def forward(self, x):\n",
        "        attn_out, attn_map = self.attention(x)\n",
        "        x = self.norm1(x + attn_out)\n",
        "        mlp_out = self.mlp(x)\n",
        "        x = self.norm2(x + mlp_out)\n",
        "        return x, attn_map\n"
      ]
    },
    {
      "cell_type": "code",
      "source": [
        "\n",
        "# Hyperparameters\n",
        "img_size = 28\n",
        "patch_size = 7\n",
        "embed_dim = 256\n",
        "num_heads = 8\n",
        "num_layers = 6\n",
        "num_classes = 10\n",
        "\n",
        "# Defining transformations for your data\n",
        "train_transform = transforms.Compose([\n",
        "    transforms.ToTensor(),\n",
        "    transforms.Normalize((0.5,), (0.5,))\n",
        "])\n",
        "test_transform = transforms.Compose([\n",
        "    transforms.ToTensor(),\n",
        "    transforms.Normalize((0.5,), (0.5,))\n",
        "])\n",
        "\n",
        "# Loading the datasets\n",
        "train_dataset = datasets.MNIST(\n",
        "    root='./data',  # Where to download or find your data\n",
        "    train=True,\n",
        "    download=True,\n",
        "    transform=train_transform\n",
        ")\n",
        "test_dataset = datasets.MNIST(\n",
        "    root='./data',\n",
        "    train=False,\n",
        "    download=True,\n",
        "    transform=test_transform\n",
        ")\n",
        "\n",
        "# Creating the DataLoaders\n",
        "train_loader = torch.utils.data.DataLoader(\n",
        "    train_dataset,\n",
        "    batch_size=64,  # Adjusting batch size\n",
        "    shuffle=True  # Shuffle the training data in each epoch\n",
        ")\n",
        "test_loader = torch.utils.data.DataLoader(\n",
        "    test_dataset,\n",
        "    batch_size=64,\n",
        "    shuffle=False  # No need to shuffle test data\n",
        ")"
      ],
      "metadata": {
        "id": "xStio5rbhbF5"
      },
      "id": "xStio5rbhbF5",
      "execution_count": 56,
      "outputs": []
    },
    {
      "cell_type": "code",
      "source": [
        "def train_model(model, dataloader, criterion, optimizer, device):\n",
        "    model.train()\n",
        "    total_loss = 0\n",
        "    correct = 0\n",
        "    total = 0\n",
        "\n",
        "    for images, labels in dataloader:\n",
        "        images, labels = images.to(device), labels.to(device)\n",
        "\n",
        "        # Unpack the tuple to get the model's output\n",
        "        outputs, _ = model(images)\n",
        "        loss = criterion(outputs, labels)\n",
        "\n",
        "        optimizer.zero_grad()\n",
        "        loss.backward()\n",
        "        optimizer.step()\n",
        "\n",
        "        total_loss += loss.item()\n",
        "        _, predicted = outputs.max(1)\n",
        "        correct += predicted.eq(labels).sum().item()\n",
        "        total += labels.size(0)\n",
        "\n",
        "    avg_loss = total_loss / len(dataloader)\n",
        "    acc = 100 * correct / total\n",
        "    return avg_loss, acc\n",
        "\n"
      ],
      "metadata": {
        "id": "wB1-vpDoh-RE"
      },
      "id": "wB1-vpDoh-RE",
      "execution_count": 63,
      "outputs": []
    },
    {
      "cell_type": "code",
      "source": [
        "def evaluate_model(model, dataloader, criterion, device):\n",
        "    model.eval()\n",
        "    total_loss = 0\n",
        "    correct = 0\n",
        "    total = 0\n",
        "\n",
        "    with torch.no_grad():\n",
        "        for images, labels in dataloader:\n",
        "            images, labels = images.to(device), labels.to(device)\n",
        "            # Get the model's output (logits) and attention maps\n",
        "            outputs, _ = model(images)\n",
        "            # Use only the logits for calculating the loss\n",
        "            loss = criterion(outputs, labels)\n",
        "\n",
        "            total_loss += loss.item()\n",
        "            _, predicted = outputs.max(1)\n",
        "            correct += predicted.eq(labels).sum().item()\n",
        "            total += labels.size(0)\n",
        "\n",
        "    avg_loss = total_loss / len(dataloader)\n",
        "    acc = 100 * correct / total\n",
        "    return avg_loss, acc"
      ],
      "metadata": {
        "id": "aNByYJsgiE7y"
      },
      "id": "aNByYJsgiE7y",
      "execution_count": 65,
      "outputs": []
    },
    {
      "cell_type": "code",
      "execution_count": 66,
      "id": "fd285bb3",
      "metadata": {
        "colab": {
          "base_uri": "https://localhost:8080/"
        },
        "id": "fd285bb3",
        "outputId": "c3e840b0-4d91-43de-ba0b-d317ee692645"
      },
      "outputs": [
        {
          "output_type": "stream",
          "name": "stdout",
          "text": [
            "Epoch 1/10\n",
            "Multi-Scale Attention -> Train Loss: 2.3272, Test Accuracy: 10.10%\n",
            "Epoch 2/10\n",
            "Multi-Scale Attention -> Train Loss: 2.3103, Test Accuracy: 11.35%\n",
            "Epoch 3/10\n",
            "Multi-Scale Attention -> Train Loss: 2.3078, Test Accuracy: 10.09%\n",
            "Epoch 4/10\n",
            "Multi-Scale Attention -> Train Loss: 2.3048, Test Accuracy: 9.80%\n",
            "Epoch 5/10\n",
            "Multi-Scale Attention -> Train Loss: 2.3033, Test Accuracy: 9.74%\n",
            "Epoch 6/10\n",
            "Multi-Scale Attention -> Train Loss: 2.3031, Test Accuracy: 11.35%\n",
            "Epoch 7/10\n",
            "Multi-Scale Attention -> Train Loss: 2.3024, Test Accuracy: 11.35%\n",
            "Epoch 8/10\n",
            "Multi-Scale Attention -> Train Loss: 2.3021, Test Accuracy: 11.35%\n",
            "Epoch 9/10\n",
            "Multi-Scale Attention -> Train Loss: 2.3020, Test Accuracy: 11.35%\n",
            "Epoch 10/10\n",
            "Multi-Scale Attention -> Train Loss: 2.3018, Test Accuracy: 11.35%\n"
          ]
        }
      ],
      "source": [
        "device = torch.device('cuda' if torch.cuda.is_available() else 'cpu')\n",
        "model_multiscale = MultiScaleVisionTransformer().to(device)\n",
        "optimizer_multiscale = torch.optim.Adam(model_multiscale.parameters(), lr=1e-3)\n",
        "criterion = nn.CrossEntropyLoss()\n",
        "train_losses_multiscale = []\n",
        "test_acc_multiscale = []\n",
        "\n",
        "epochs = 10\n",
        "\n",
        "for epoch in range(epochs):\n",
        "    loss_m, acc_m = train_model(model_multiscale, train_loader, criterion, optimizer_multiscale, device)\n",
        "    test_loss_m, test_acc_m = evaluate_model(model_multiscale, test_loader, criterion, device)\n",
        "\n",
        "    train_losses_multiscale.append(loss_m)\n",
        "    test_acc_multiscale.append(test_acc_m)\n",
        "\n",
        "    print(f\"Epoch {epoch+1}/{epochs}\")\n",
        "    print(f\"Multi-Scale Attention -> Train Loss: {loss_m:.4f}, Test Accuracy: {test_acc_m:.2f}%\")\n"
      ]
    }
  ],
  "metadata": {
    "kernelspec": {
      "display_name": "Python 3",
      "name": "python3"
    },
    "language_info": {
      "codemirror_mode": {
        "name": "ipython",
        "version": 3
      },
      "file_extension": ".py",
      "mimetype": "text/x-python",
      "name": "python",
      "nbconvert_exporter": "python",
      "pygments_lexer": "ipython3",
      "version": "3.11.5"
    },
    "colab": {
      "provenance": [],
      "gpuType": "T4",
      "include_colab_link": true
    },
    "accelerator": "GPU"
  },
  "nbformat": 4,
  "nbformat_minor": 5
}